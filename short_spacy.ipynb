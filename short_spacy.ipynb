{
 "cells": [
  {
   "cell_type": "markdown",
   "metadata": {},
   "source": [
    "#  Quick introduction to NLP with Python using spacy\n",
    "\n",
    "## Main goal: Remove headers and footers from emails\n",
    "\n",
    "### December 2019\n",
    "### Author: GradientIA TMC: $I^2 Team$ (Innovation and inivestigation Team)\n",
    "### Group: Spanish publications: All the code comments will be posted in Spanish\n"
   ]
  },
  {
   "cell_type": "markdown",
   "metadata": {},
   "source": [
    "* Ejemplo de uso de NLP vía librerías standar de Spacy. El objetivo es la eliminación de encabezados y firmas de los correos.\n",
    "* Se procesan ficheros en formato .txt\n",
    "* En un directorio de entrada tendremos los textos a analizar (ficheros de texto que comienzan por \"mt_\") y se guardarán en el mismo directorio los ficheros de salida (mismo nombre, finalizando con \"_clean\").  \n",
    "\n",
    "---\n",
    "\n",
    "* Se usan las librerías Numpy y Spacy con su funcionalidad en español\n",
    "* Se utilizan los modelos estadísticos pre-entrenados en español. En este caso, es_core_news_sm"
   ]
  },
  {
   "cell_type": "code",
   "execution_count": null,
   "metadata": {},
   "outputs": [],
   "source": [
    "import numpy as np\n",
    "import spacy\n",
    "import es_core_news_sm\n",
    "\n",
    "from spacy.lang.es import Spanish\n",
    "\n",
    "def convertir (file, text):   \n",
    "    # Conversión del corpus (texto) a Sentencias\n",
    "    sentencias = text.strip().split('\\n')\n",
    "    \n",
    "    # Se prepara el fichero de salida\n",
    "    new_file = file.name[0:-4] + \"_clean.txt\"\n",
    "    \n",
    "    _genera_texto(sentencias, new_file)\n",
    "\n",
    "# Importante el umbral. No dudes en \"jugar\" con él para ajustarlo a tus necesidades \n",
    "# El umbral define los falsos positivos. \n",
    "# Un umbral demasiado bajo no generará fichero de salida.\n",
    "# Un umbral demasiado alto, no eliminará cabeceras y firmas.\n",
    "def _genera_texto(sentencias, fic, threshold=0.99):\n",
    "    # Carga de modelos estadísticos pre-entrenados  \n",
    "    etiquetado_sm = spacy.load('es_core_news_sm')\n",
    "\n",
    "    # Se iteran las sentencias y, si no se contempla como cabecera o pié, se escribe en el fichero de salida.  \n",
    "    with open(fic, \"w\") as n_file:\n",
    "        for sentencia in sentencias:\n",
    "            if _probabilidad (sentencia, etiquetado_sm) < threshold:\n",
    "                n_file.write(sentencia)\n",
    "\n",
    "# Cálculo simplificado de la probabilidad de que sea cabecera o pié\n",
    "# Nos basamos en los verbos de cada sentencia.\n",
    "# Se puede ajustar en base a los parámetros que cada uno quiera\n",
    "def _probabilidad(sentencia, etiquetado):   \n",
    "    # Obtención del etiquetado (tagger)\n",
    "    doc = etiquetado(sentencia)\n",
    "\n",
    "    verb_count = np.sum([token.pos_ != \"VERB\" for token in doc])\n",
    "    if (len(doc)>0):\n",
    "        return (float(verb_count) / len(doc))\n",
    "    else:\n",
    "        return (0.0)"
   ]
  },
  {
   "cell_type": "code",
   "execution_count": null,
   "metadata": {},
   "outputs": [],
   "source": [
    "# Se barre el directorio de entrada pasado por parámtero, en donde se procesarán todos los ficheros\n",
    "# de texto que queremos tratar. En este caso, sólo tratamos aquellos que comienzan por \"mt_\"\n",
    "# Se borran todos aquellos que ya hayan sido procesados (finalizan con \"_clean.txt\")\n",
    "# Entrada: Directorio a recorrer\n",
    "# Salida: Lista de ficheros a tratar\n",
    "import os\n",
    "\n",
    "def devolverArchivos(directorio):\n",
    "    lista = []\n",
    "    for file in os.listdir(directorio):\n",
    "        \n",
    "        if (file[0:3] == 'mt_'):\n",
    "            if (file[-9:] == 'clean.txt'):\n",
    "                print (file[-9:])\n",
    "                file_aux = directorio+file\n",
    "                print ('Borrando...', file_aux)\n",
    "                os.remove(file_aux)\n",
    "            else:\n",
    "                lista.append(os.path.join(directorio, file))    \n",
    "    return (lista)"
   ]
  },
  {
   "cell_type": "code",
   "execution_count": null,
   "metadata": {},
   "outputs": [],
   "source": [
    "# Directorio objetivo: download_mails\n",
    "directorio = './download_mails/'\n",
    "\n",
    "lista = []\n",
    "lista = devolverArchivos(directorio)"
   ]
  },
  {
   "cell_type": "code",
   "execution_count": null,
   "metadata": {},
   "outputs": [],
   "source": [
    "#!/usr/bin/env python\n",
    "# -*- coding: utf-8 -*-\n",
    "import codecs\n",
    "\n",
    "for fichero in lista:\n",
    "    print ('Tratando...', fichero)\n",
    "    fichero_tratado = codecs.open (fichero, mode = 'r', encoding = 'utf-8')\n",
    "    text = fichero_tratado.read()\n",
    "    convertir (fichero_tratado, text)\n",
    "\n",
    "print ('Terminado')"
   ]
  }
 ],
 "metadata": {
  "kernelspec": {
   "display_name": "Python 3",
   "language": "python",
   "name": "python3"
  },
  "language_info": {
   "codemirror_mode": {
    "name": "ipython",
    "version": 3
   },
   "file_extension": ".py",
   "mimetype": "text/x-python",
   "name": "python",
   "nbconvert_exporter": "python",
   "pygments_lexer": "ipython3",
   "version": "3.7.4"
  }
 },
 "nbformat": 4,
 "nbformat_minor": 2
}
